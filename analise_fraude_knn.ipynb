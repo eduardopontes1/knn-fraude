{
 "cells": [
  {
   "cell_type": "code",
   "execution_count": null,
   "id": "098b075c-c1ba-42df-8379-7e39d868c143",
   "metadata": {},
   "outputs": [],
   "source": [
    "import pandas as pd\n",
    "import numpy as np\n",
    "import matplotlib.pyplot as plt\n",
    "import seaborn as sns\n",
    "import joblib\n",
    "from collections import Counter\n",
    "\n",
    "from sklearn.model_selection import train_test_split, GridSearchCV\n",
    "from sklearn.preprocessing import StandardScaler\n",
    "from sklearn.neighbors import KNeighborsClassifier\n",
    "from sklearn.metrics import classification_report, confusion_matrix, f1_score, precision_recall_curve"
   ]
  },
  {
   "cell_type": "code",
   "execution_count": null,
   "id": "61e76b3d-ea09-414f-b9ca-72c5211ed9fe",
   "metadata": {},
   "outputs": [],
   "source": [
    "df = pd.read_csv(\"PS_20174392719_1491204439457_log.csv\")\n",
    "df = df.drop(['nameOrig', 'nameDest'], axis=1)\n",
    "df = pd.get_dummies(df, columns=['type'], drop_first=True)"
   ]
  },
  {
   "cell_type": "code",
   "execution_count": null,
   "id": "0f198a6a-1ef6-4fe3-af7d-4b59c174d9a9",
   "metadata": {},
   "outputs": [],
   "source": [
    "df['erro_saldo_origem'] = df['oldbalanceOrg'] - df['amount'] - df['newbalanceOrig']\n",
    "df['erro_saldo_destino'] = df['oldbalanceDest'] + df['amount'] - df['newbalanceDest']"
   ]
  },
  {
   "cell_type": "code",
   "execution_count": null,
   "id": "92ec6854-e1f2-4edb-87b7-f2bcc9c0e0ed",
   "metadata": {},
   "outputs": [],
   "source": [
    "y = df['isFraud']\n",
    "X = df.drop(['isFraud'], axis=1)\n",
    "\n",
    "X_train, X_test, y_train, y_test = train_test_split(\n",
    "    X, y,\n",
    "    test_size=0.2,\n",
    "    stratify=y,\n",
    "    random_state=557660\n",
    ")"
   ]
  },
  {
   "cell_type": "code",
   "execution_count": null,
   "id": "34094bb0-ca25-47e5-8e72-4082e338ef00",
   "metadata": {},
   "outputs": [],
   "source": [
    "scaler = StandardScaler()\n",
    "X_train_scaled = scaler.fit_transform(X_train)\n",
    "X_test_scaled = scaler.transform(X_test)"
   ]
  },
  {
   "cell_type": "code",
   "execution_count": null,
   "id": "bfe8b896-9820-49af-9f55-76ead5dc5d79",
   "metadata": {},
   "outputs": [],
   "source": [
    "\n",
    "X_sample, _, y_sample, _ = train_test_split(\n",
    "    X_train_scaled, y_train,\n",
    "    stratify=y_train,\n",
    "    train_size=50000,\n",
    "    random_state=557660\n",
    ")\n",
    "\n",
    "knn = KNeighborsClassifier(n_jobs=-1)\n",
    "\n",
    "param_grid = {\n",
    "    'n_neighbors': [3, 5, 7, 9],\n",
    "    'weights': ['uniform', 'distance'],\n",
    "    'p': [1, 2] # 1: Manhattan, 2: Euclidiana\n",
    "}\n",
    "\n",
    "grid = GridSearchCV(\n",
    "    knn,\n",
    "    param_grid,\n",
    "    scoring='f1',\n",
    "    cv=3,\n",
    "    verbose=2,\n",
    "    n_jobs=-1\n",
    ")\n",
    "\n",
    "grid.fit(X_sample, y_sample)\n",
    "\n",
    "print(\"Melhores Parâmetros Encontrados:\", grid.best_params_)\n",
    "best_knn_params = grid.best_params_"
   ]
  },
  {
   "cell_type": "code",
   "execution_count": null,
   "id": "d4e75665-da9f-4db5-a492-bd379cc44880",
   "metadata": {},
   "outputs": [],
   "source": [
    "modelo_final = KNeighborsClassifier(**best_knn_params, n_jobs=-1)\n",
    "modelo_final.fit(X_train_scaled, y_train)"
   ]
  },
  {
   "cell_type": "code",
   "execution_count": null,
   "id": "82030a07-524d-4bcd-9152-b478e4574073",
   "metadata": {},
   "outputs": [],
   "source": [
    "y_proba = modelo_final.predict_proba(X_test_scaled)[:, 1]\n",
    "precisions, recalls, thresholds = precision_recall_curve(y_test, y_proba)\n",
    "\n",
    "f1_scores = 2 * (precisions * recalls) / (precisions * recalls + 1e-7)\n",
    "f1_scores = f1_scores[:-1]\n",
    "thresholds_aligned = thresholds[:len(f1_scores)]\n",
    "\n",
    "best_f1_idx = np.argmax(f1_scores)\n",
    "best_threshold = thresholds_aligned[best_f1_idx]\n",
    "\n",
    "print(f\"Melhor Limiar de Decisão Encontrado: {best_threshold:.4f}\")"
   ]
  },
  {
   "cell_type": "code",
   "execution_count": null,
   "id": "d8277740-eb67-4f4d-906d-235414072c86",
   "metadata": {},
   "outputs": [],
   "source": [
    "y_pred_final = (y_proba >= best_threshold).astype(int)\n",
    "\n",
    "print(\"\\n--- RESULTADOS FINAIS DO MODELO KNN OTIMIZADO ---\")\n",
    "print(classification_report(y_test, y_pred_final, digits=4))\n",
    "\n",
    "mat_conf = confusion_matrix(y_test, y_pred_final)\n",
    "\n",
    "plt.figure(figsize=(8, 6))\n",
    "sns.heatmap(mat_conf, annot=True, fmt='d', cmap='viridis',\n",
    "            xticklabels=['Normal', 'Fraude'], \n",
    "            yticklabels=['Normal', 'Fraude'])\n",
    "plt.title('Matriz de Confusão Final (Limiar Otimizado)', fontsize=16)\n",
    "plt.ylabel('Classe Verdadeira', fontsize=12)\n",
    "plt.xlabel('Classe Prevista', fontsize=12)\n",
    "plt.show()"
   ]
  },
  {
   "cell_type": "code",
   "execution_count": null,
   "id": "e4956514-e387-4d34-9d28-d696786a661f",
   "metadata": {},
   "outputs": [],
   "source": [
    "joblib.dump(modelo_final, \"modelo_knn_fraude.pkl\")\n",
    "joblib.dump(scaler, \"scaler_fraude.pkl\")\n",
    "\n",
    "print(\"\\nModelo e Scaler salvos com sucesso!\")"
   ]
  }
 ],
 "metadata": {
  "kernelspec": {
   "display_name": "Python 3 (ipykernel)",
   "language": "python",
   "name": "python3"
  },
  "language_info": {
   "codemirror_mode": {
    "name": "ipython",
    "version": 3
   },
   "file_extension": ".py",
   "mimetype": "text/x-python",
   "name": "python",
   "nbconvert_exporter": "python",
   "pygments_lexer": "ipython3",
   "version": "3.13.5"
  }
 },
 "nbformat": 4,
 "nbformat_minor": 5
}
